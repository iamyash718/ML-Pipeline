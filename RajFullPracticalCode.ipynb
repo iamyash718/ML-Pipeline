{
  "nbformat": 4,
  "nbformat_minor": 0,
  "metadata": {
    "colab": {
      "provenance": []
    },
    "kernelspec": {
      "name": "python3",
      "display_name": "Python 3"
    },
    "language_info": {
      "name": "python"
    }
  },
  "cells": [
    {
      "cell_type": "code",
      "execution_count": 2,
      "metadata": {
        "colab": {
          "base_uri": "https://localhost:8080/"
        },
        "id": "3BvSMBreo9yE",
        "outputId": "e678c7a7-98af-4dd2-8687-e30facaec02e"
      },
      "outputs": [
        {
          "output_type": "stream",
          "name": "stdout",
          "text": [
            "Dataset URL: https://www.kaggle.com/datasets/redamorsli/kube-ids0\n",
            "License(s): unknown\n",
            "Downloading kube-ids0.zip to /content\n",
            " 82% 350M/429M [00:00<00:00, 644MB/s] \n",
            "100% 429M/429M [00:06<00:00, 73.8MB/s]\n",
            "Dataset downloaded and ready:\n",
            "dataset:\n",
            "boa_dataset  dvwa_dataset\n",
            "\n",
            "dataset/boa_dataset:\n",
            "processed  raw\n",
            "\n",
            "dataset/boa_dataset/processed:\n",
            " 1-network_flows\t   '3-merged(slowloris+torshammer)'\n",
            "'2-merged(net+container)'   boa_dataset_ml_ready_frontend_microservice.csv\n",
            "\n",
            "dataset/boa_dataset/processed/1-network_flows:\n",
            "benign+slowloris_net_flows.csv\tbenign+torshammer_net_flows.csv\n",
            "\n",
            "'dataset/boa_dataset/processed/2-merged(net+container)':\n",
            "slowloris_merged_dimensions_frontend_microservice.csv\n",
            "torshammer_merged_dimensions_frontend_microservice.csv\n",
            "\n",
            "'dataset/boa_dataset/processed/3-merged(slowloris+torshammer)':\n",
            "boa_merged_not_cleaned_frontend_microservice.csv\n",
            "\n",
            "dataset/boa_dataset/raw:\n",
            "container_metrics  network_captures\n",
            "\n",
            "dataset/boa_dataset/raw/container_metrics:\n",
            "benign+slowloris_container_metrics.csv\tbenign+torshammer_container_metrics.csv\n",
            "\n",
            "dataset/boa_dataset/raw/network_captures:\n",
            "benign+slowloris_net_packets.pcap  benign+torshammer_net_packets.pcap\n",
            "\n",
            "dataset/dvwa_dataset:\n",
            "processed  raw\n",
            "\n",
            "dataset/dvwa_dataset/processed:\n",
            " 1-network_flows\t   '3-merged(all_attacks)'\n",
            "'2-merged(net+container)'   dvwa_dataset_ml_ready.csv\n",
            "\n",
            "dataset/dvwa_dataset/processed/1-network_flows:\n",
            "benign+dos-s+dos-t+bf_net_flows.csv\t  benign+sqli_net_flows.csv\n",
            "benign+dos-s+dos-t+bf+sqli_net_flows.csv\n",
            "\n",
            "'dataset/dvwa_dataset/processed/2-merged(net+container)':\n",
            "benign+dos-s+dos-t+bf_merged_dimensions.csv  benign+sqli_merged_dimensions.csv\n",
            "\n",
            "'dataset/dvwa_dataset/processed/3-merged(all_attacks)':\n",
            "dvwa_merged_not_cleaned.csv\n",
            "\n",
            "dataset/dvwa_dataset/raw:\n",
            "container_metrics  network_captures\n",
            "\n",
            "dataset/dvwa_dataset/raw/container_metrics:\n",
            "benign+dos-s+dos-t+bf_container_metrics.csv  benign+sqli_container_metrics.csv\n",
            "\n",
            "dataset/dvwa_dataset/raw/network_captures:\n",
            "benign+dos-s+dos-t+bf_net_packets.pcap\tbenign+sqli_net_packets.pcap\n"
          ]
        }
      ],
      "source": [
        "# 1. Install Kaggle and setup\n",
        "!pip install -q kaggle\n",
        "\n",
        "# 2. Create and write kaggle.json credentials from string\n",
        "import os\n",
        "kaggle_token = {\n",
        "    \"username\":\"your_kaggle_username_here\",\n",
        "    \"key\":\"your_kaggle_api_key_here\"\n",
        "}\n",
        "\n",
        "# Save to kaggle.json\n",
        "os.makedirs(\"/root/.kaggle\", exist_ok=True)\n",
        "with open(\"/root/.kaggle/kaggle.json\", \"w\") as f:\n",
        "    import json\n",
        "    json.dump(kaggle_token, f)\n",
        "\n",
        "# 3. Set file permissions\n",
        "!chmod 600 /root/.kaggle/kaggle.json\n",
        "\n",
        "# 4. Download Kube-IDS0 Dataset from Kaggle\n",
        "!kaggle datasets download -d redamorsli/kube-ids0\n",
        "\n",
        "# 5. Unzip it into dataset folder\n",
        "!unzip -q kube-ids0.zip -d dataset\n",
        "\n",
        "# 6. Check files\n",
        "print(\"Dataset downloaded and ready:\")\n",
        "!ls -R dataset"
      ]
    },
    {
      "cell_type": "markdown",
      "source": [
        "## **Data Loading and Inspection**"
      ],
      "metadata": {
        "id": "_tQXgEAsvUGG"
      }
    },
    {
      "cell_type": "code",
      "source": [
        "import pandas as pd\n",
        "\n",
        "# path to main dataset file\n",
        "data_path = \"dataset/boa_dataset/processed/boa_dataset_ml_ready_frontend_microservice.csv\"\n",
        "\n",
        "# load data\n",
        "df = pd.read_csv(data_path)\n",
        "\n",
        "# show shape of dataset\n",
        "print(\"Shape of dataset:\", df.shape)\n",
        "\n",
        "# show first 5 rows\n",
        "print(df.head())\n",
        "\n",
        "# show column names\n",
        "print(\"Column names:\", df.columns.tolist())\n",
        "\n",
        "# check label column and value counts\n",
        "label_column = None\n",
        "for col in [\"label\", \"class\", \"target\", \"attack_type\"]:\n",
        "    if col in df.columns:\n",
        "        label_column = col\n",
        "        break\n",
        "\n",
        "if label_column:\n",
        "    print(f\"Label column found: {label_column}\")\n",
        "    print(df[label_column].value_counts())\n",
        "else:\n",
        "    print(\"No common label column found. Please check columns.\")"
      ],
      "metadata": {
        "colab": {
          "base_uri": "https://localhost:8080/"
        },
        "id": "ukYw1W7_vWhG",
        "outputId": "db7f77ef-7630-421d-e4b3-f634db451804"
      },
      "execution_count": 3,
      "outputs": [
        {
          "output_type": "stream",
          "name": "stdout",
          "text": [
            "Shape of dataset: (10069, 225)\n",
            "   packets_count  fwd_packets_count  bwd_packets_count  total_payload_bytes  \\\n",
            "0             19                  9                 10                10107   \n",
            "1              4                  2                  2                 4689   \n",
            "2             56                 30                 26                67156   \n",
            "3             48                 19                 29               126612   \n",
            "4             15                  7                  8                 6245   \n",
            "\n",
            "   fwd_total_payload_bytes  bwd_total_payload_bytes  payload_bytes_max  \\\n",
            "0                     1007                     9100               2914   \n",
            "1                     4641                       48               4641   \n",
            "2                      840                    66316               8254   \n",
            "3                     7708                   118904              12401   \n",
            "4                      155                     6090               1974   \n",
            "\n",
            "   payload_bytes_mean  payload_bytes_std  payload_bytes_variance  ...  \\\n",
            "0            531.9474          1044.6887            1.091375e+06  ...   \n",
            "1           1172.2500          2002.7796            4.011126e+06  ...   \n",
            "2           1199.2143          1959.6163            3.840096e+06  ...   \n",
            "3           2637.7500          3706.0197            1.373458e+07  ...   \n",
            "4            416.3333           776.3392            6.027026e+05  ...   \n",
            "\n",
            "   container_memory_rss  container_memory_usage_bytes  \\\n",
            "0            70117376.0                    73197568.0   \n",
            "1            70115328.0                    73199616.0   \n",
            "2            70117376.0                    73197568.0   \n",
            "3            70117376.0                    73197568.0   \n",
            "4            70117376.0                    73197568.0   \n",
            "\n",
            "   container_memory_working_set_bytes  container_network_receive_bytes_rate  \\\n",
            "0                          73197568.0                          20294.535289   \n",
            "1                          73199616.0                          16770.660646   \n",
            "2                          73197568.0                          20294.535289   \n",
            "3                          73197568.0                          20294.535289   \n",
            "4                          73197568.0                          20294.535289   \n",
            "\n",
            "   container_network_receive_packets_rate  \\\n",
            "0                               82.982807   \n",
            "1                               69.158973   \n",
            "2                               82.982807   \n",
            "3                               82.982807   \n",
            "4                               82.982807   \n",
            "\n",
            "   container_network_transmit_bytes_rate  \\\n",
            "0                          121136.351368   \n",
            "1                          104880.730957   \n",
            "2                          121136.351368   \n",
            "3                          121136.351368   \n",
            "4                          121136.351368   \n",
            "\n",
            "   container_network_transmit_packets_rate  container_sockets  \\\n",
            "0                               106.872075                8.0   \n",
            "1                                89.606218                7.5   \n",
            "2                               106.872075                8.0   \n",
            "3                               106.872075                8.0   \n",
            "4                               106.872075                8.0   \n",
            "\n",
            "   container_threads  container_last_seen_rate  \n",
            "0                7.0                       0.0  \n",
            "1                7.0                       0.0  \n",
            "2                7.0                       0.0  \n",
            "3                7.0                       0.0  \n",
            "4                7.0                       1.0  \n",
            "\n",
            "[5 rows x 225 columns]\n",
            "Column names: ['packets_count', 'fwd_packets_count', 'bwd_packets_count', 'total_payload_bytes', 'fwd_total_payload_bytes', 'bwd_total_payload_bytes', 'payload_bytes_max', 'payload_bytes_mean', 'payload_bytes_std', 'payload_bytes_variance', 'payload_bytes_median', 'fwd_payload_bytes_max', 'fwd_payload_bytes_mean', 'fwd_payload_bytes_std', 'fwd_payload_bytes_variance', 'fwd_payload_bytes_median', 'fwd_payload_bytes_mode', 'bwd_payload_bytes_max', 'bwd_payload_bytes_mean', 'bwd_payload_bytes_std', 'bwd_payload_bytes_variance', 'bwd_payload_bytes_median', 'bwd_payload_bytes_mode', 'total_header_bytes', 'mean_header_bytes', 'std_header_bytes', 'cov_header_bytes', 'variance_header_bytes', 'fwd_total_header_bytes', 'fwd_mean_header_bytes', 'fwd_std_header_bytes', 'fwd_cov_header_bytes', 'fwd_variance_header_bytes', 'bwd_total_header_bytes', 'bwd_mean_header_bytes', 'bwd_std_header_bytes', 'bwd_cov_header_bytes', 'bwd_variance_header_bytes', 'fwd_segment_size_mean', 'fwd_segment_size_max', 'fwd_segment_size_min', 'fwd_segment_size_std', 'fwd_segment_size_variance', 'fwd_segment_size_median', 'fwd_segment_size_cov', 'fwd_segment_size_mode', 'bwd_segment_size_mean', 'bwd_segment_size_max', 'bwd_segment_size_min', 'bwd_segment_size_std', 'bwd_segment_size_variance', 'bwd_segment_size_median', 'bwd_segment_size_cov', 'bwd_segment_size_mode', 'segment_size_mean', 'segment_size_max', 'segment_size_std', 'segment_size_variance', 'segment_size_median', 'segment_size_cov', 'fwd_init_win_bytes', 'bwd_init_win_bytes', 'bytes_rate', 'fwd_bytes_rate', 'bwd_bytes_rate', 'packets_rate', 'bwd_packets_rate', 'fwd_packets_rate', 'down_up_rate', 'avg_fwd_bytes_per_bulk', 'avg_fwd_packets_per_bulk', 'avg_fwd_bulk_rate', 'avg_bwd_bytes_per_bulk', 'avg_bwd_packets_bulk_rate', 'avg_bwd_bulk_rate', 'fwd_bulk_state_count', 'fwd_bulk_total_size', 'fwd_bulk_per_packet', 'fwd_bulk_duration', 'bwd_bulk_state_count', 'bwd_bulk_total_size', 'bwd_bulk_per_packet', 'bwd_bulk_duration', 'psh_flag_counts', 'ack_flag_counts', 'fwd_psh_flag_counts', 'fwd_ack_flag_counts', 'bwd_psh_flag_counts', 'bwd_ack_flag_counts', 'psh_flag_percentage_in_total', 'syn_flag_percentage_in_total', 'ack_flag_percentage_in_total', 'fwd_psh_flag_percentage_in_total', 'fwd_syn_flag_percentage_in_total', 'fwd_ack_flag_percentage_in_total', 'bwd_psh_flag_percentage_in_total', 'bwd_syn_flag_percentage_in_total', 'bwd_ack_flag_percentage_in_total', 'fwd_psh_flag_percentage_in_fwd_packets', 'fwd_syn_flag_percentage_in_fwd_packets', 'fwd_ack_flag_percentage_in_fwd_packets', 'bwd_psh_flag_percentage_in_bwd_packets', 'bwd_syn_flag_percentage_in_bwd_packets', 'packets_IAT_mean', 'packet_IAT_std', 'packet_IAT_max', 'packet_IAT_min', 'packet_IAT_total', 'packets_IAT_median', 'packets_IAT_cov', 'packets_IAT_mode', 'packets_IAT_variance', 'fwd_packets_IAT_mean', 'fwd_packets_IAT_std', 'fwd_packets_IAT_max', 'fwd_packets_IAT_min', 'fwd_packets_IAT_total', 'fwd_packets_IAT_median', 'fwd_packets_IAT_mode', 'fwd_packets_IAT_variance', 'bwd_packets_IAT_mean', 'bwd_packets_IAT_std', 'bwd_packets_IAT_max', 'bwd_packets_IAT_min', 'bwd_packets_IAT_total', 'bwd_packets_IAT_median', 'bwd_packets_IAT_mode', 'bwd_packets_IAT_variance', 'subflow_fwd_packets', 'subflow_bwd_packets', 'subflow_fwd_bytes', 'subflow_bwd_bytes', 'min_bwd_packets_delta_time', 'max_bwd_packets_delta_time', 'mean_packets_delta_time', 'mode_packets_delta_time', 'variance_packets_delta_time', 'std_packets_delta_time', 'median_packets_delta_time', 'cov_packets_delta_time', 'mean_bwd_packets_delta_time', 'mode_bwd_packets_delta_time', 'variance_bwd_packets_delta_time', 'std_bwd_packets_delta_time', 'median_bwd_packets_delta_time', 'cov_bwd_packets_delta_time', 'min_fwd_packets_delta_time', 'max_fwd_packets_delta_time', 'mean_fwd_packets_delta_time', 'mode_fwd_packets_delta_time', 'variance_fwd_packets_delta_time', 'std_fwd_packets_delta_time', 'median_fwd_packets_delta_time', 'cov_fwd_packets_delta_time', 'min_packets_delta_len', 'max_packets_delta_len', 'mean_packets_delta_len', 'mode_packets_delta_len', 'variance_packets_delta_len', 'std_packets_delta_len', 'median_packets_delta_len', 'min_bwd_packets_delta_len', 'max_bwd_packets_delta_len', 'mean_bwd_packets_delta_len', 'mode_bwd_packets_delta_len', 'variance_bwd_packets_delta_len', 'std_bwd_packets_delta_len', 'median_bwd_packets_delta_len', 'min_fwd_packets_delta_len', 'max_fwd_packets_delta_len', 'mean_fwd_packets_delta_len', 'mode_fwd_packets_delta_len', 'variance_fwd_packets_delta_len', 'std_fwd_packets_delta_len', 'median_fwd_packets_delta_len', 'cov_fwd_packets_delta_len', 'mean_header_bytes_delta_len', 'variance_header_bytes_delta_len', 'std_header_bytes_delta_len', 'mean_bwd_header_bytes_delta_len', 'variance_bwd_header_bytes_delta_len', 'std_bwd_header_bytes_delta_len', 'mean_fwd_header_bytes_delta_len', 'variance_fwd_header_bytes_delta_len', 'std_fwd_header_bytes_delta_len', 'min_payload_bytes_delta_len', 'max_payload_bytes_delta_len', 'mean_payload_bytes_delta_len', 'mode_payload_bytes_delta_len', 'variance_payload_bytes_delta_len', 'std_payload_bytes_delta_len', 'median_payload_bytes_delta_len', 'min_bwd_payload_bytes_delta_len', 'max_bwd_payload_bytes_delta_len', 'mean_bwd_payload_bytes_delta_len', 'mode_bwd_payload_bytes_delta_len', 'variance_bwd_payload_bytes_delta_len', 'std_bwd_payload_bytes_delta_len', 'median_bwd_payload_bytes_delta_len', 'min_fwd_payload_bytes_delta_len', 'max_fwd_payload_bytes_delta_len', 'mean_fwd_payload_bytes_delta_len', 'mode_fwd_payload_bytes_delta_len', 'variance_fwd_payload_bytes_delta_len', 'std_fwd_payload_bytes_delta_len', 'median_fwd_payload_bytes_delta_len', 'label', 'container_cpu_cfs_periods_rate', 'container_cpu_cfs_throttled_periods_rate', 'container_cpu_cfs_throttled_seconds_rate', 'container_cpu_system_seconds_rate', 'container_cpu_usage_seconds_rate', 'container_cpu_user_seconds_rate', 'container_file_descriptors', 'container_memory_failures_rate', 'container_memory_rss', 'container_memory_usage_bytes', 'container_memory_working_set_bytes', 'container_network_receive_bytes_rate', 'container_network_receive_packets_rate', 'container_network_transmit_bytes_rate', 'container_network_transmit_packets_rate', 'container_sockets', 'container_threads', 'container_last_seen_rate']\n",
            "Label column found: label\n",
            "label\n",
            "0    4621\n",
            "2    3952\n",
            "1    1496\n",
            "Name: count, dtype: int64\n"
          ]
        }
      ]
    },
    {
      "cell_type": "markdown",
      "source": [
        "## **Exploratory Data Analysis (EDA)**"
      ],
      "metadata": {
        "id": "NFKsj_duvkKh"
      }
    },
    {
      "cell_type": "code",
      "source": [
        "import matplotlib.pyplot as plt\n",
        "import seaborn as sns\n",
        "\n",
        "# check missing values\n",
        "missing_values = df.isnull().sum()\n",
        "missing_total = missing_values.sum()\n",
        "print(\"Total missing values in dataset:\", missing_total)\n",
        "print(\"Missing values per column (top 10):\")\n",
        "print(missing_values[missing_values > 0].sort_values(ascending=False).head(10))\n",
        "\n",
        "# basic statistics\n",
        "print(\"\\nBasic statistics:\")\n",
        "print(df.describe().T.head(10))\n",
        "\n",
        "# plot class distribution\n",
        "plt.figure(figsize=(6,4))\n",
        "sns.countplot(x=\"label\", data=df, palette=\"viridis\")\n",
        "plt.title(\"Class Distribution\")\n",
        "plt.xlabel(\"Class Label\")\n",
        "plt.ylabel(\"Count\")\n",
        "plt.show()"
      ],
      "metadata": {
        "colab": {
          "base_uri": "https://localhost:8080/",
          "height": 1000
        },
        "id": "pgeJTsrVvmKu",
        "outputId": "f41d9150-4381-490d-d86f-3457f95d122a"
      },
      "execution_count": 4,
      "outputs": [
        {
          "output_type": "stream",
          "name": "stdout",
          "text": [
            "Total missing values in dataset: 0\n",
            "Missing values per column (top 10):\n",
            "Series([], dtype: int64)\n",
            "\n",
            "Basic statistics:\n",
            "                           count          mean           std  min  25%  50%  \\\n",
            "packets_count            10069.0  1.616347e+01  5.577881e+01  1.0  2.0  2.0   \n",
            "fwd_packets_count        10069.0  8.406793e+00  3.244756e+01  0.0  1.0  1.0   \n",
            "bwd_packets_count        10069.0  7.756679e+00  2.360166e+01  0.0  1.0  1.0   \n",
            "total_payload_bytes      10069.0  2.392706e+04  8.226498e+04  0.0  0.0  0.0   \n",
            "fwd_total_payload_bytes  10069.0  2.843365e+03  1.733558e+04  0.0  0.0  0.0   \n",
            "bwd_total_payload_bytes  10069.0  2.108370e+04  7.935966e+04  0.0  0.0  0.0   \n",
            "payload_bytes_max        10069.0  1.614908e+03  4.199920e+03  0.0  0.0  0.0   \n",
            "payload_bytes_mean       10069.0  3.469651e+02  8.512701e+02  0.0  0.0  0.0   \n",
            "payload_bytes_std        10069.0  5.008230e+02  1.196298e+03  0.0  0.0  0.0   \n",
            "payload_bytes_variance   10069.0  1.681811e+06  5.947097e+06  0.0  0.0  0.0   \n",
            "\n",
            "                               75%           max  \n",
            "packets_count               4.0000  4.720000e+02  \n",
            "fwd_packets_count           2.0000  2.820000e+02  \n",
            "bwd_packets_count           2.0000  1.970000e+02  \n",
            "total_payload_bytes       118.0000  5.979480e+05  \n",
            "fwd_total_payload_bytes    38.0000  2.878610e+05  \n",
            "bwd_total_payload_bytes     0.0000  5.910600e+05  \n",
            "payload_bytes_max          77.0000  6.430800e+04  \n",
            "payload_bytes_mean         22.0000  7.863631e+03  \n",
            "payload_bytes_std          32.4998  1.080748e+04  \n",
            "payload_bytes_variance   1056.2344  1.168017e+08  \n"
          ]
        },
        {
          "output_type": "stream",
          "name": "stderr",
          "text": [
            "/tmp/ipython-input-1484005163.py:17: FutureWarning: \n",
            "\n",
            "Passing `palette` without assigning `hue` is deprecated and will be removed in v0.14.0. Assign the `x` variable to `hue` and set `legend=False` for the same effect.\n",
            "\n",
            "  sns.countplot(x=\"label\", data=df, palette=\"viridis\")\n"
          ]
        },
        {
          "output_type": "display_data",
          "data": {
            "text/plain": [
              "<Figure size 600x400 with 1 Axes>"
            ],
            "image/png": "[encoded data removed]"
          },
          "metadata": {}
        }
      ]
    },
    {
      "cell_type": "markdown",
      "source": [
        "## **Preprocessing and CNN + LSTM**"
      ],
      "metadata": {
        "id": "dLUSLqpNv2vE"
      }
    },
    {
      "cell_type": "code",
      "source": [
        "from sklearn.preprocessing import StandardScaler, OneHotEncoder\n",
        "from sklearn.model_selection import train_test_split\n",
        "import numpy as np\n",
        "\n",
        "# separate features and labels\n",
        "X = df.drop(columns=[\"label\"])\n",
        "y = df[\"label\"]\n",
        "\n",
        "# one-hot encode labels\n",
        "encoder = OneHotEncoder(sparse_output=False)\n",
        "y_encoded = encoder.fit_transform(y.values.reshape(-1, 1))\n",
        "\n",
        "# scale features\n",
        "scaler = StandardScaler()\n",
        "X_scaled = scaler.fit_transform(X)\n",
        "\n",
        "# split train and test sets\n",
        "X_train, X_test, y_train, y_test = train_test_split(\n",
        "    X_scaled, y_encoded, test_size=0.2, random_state=42, stratify=y\n",
        ")\n",
        "\n",
        "# reshape for CNN + LSTM (timesteps=1 for now, features=number of columns)\n",
        "X_train = X_train.reshape(X_train.shape[0], 1, X_train.shape[1])\n",
        "X_test = X_test.reshape(X_test.shape[0], 1, X_test.shape[1])\n",
        "\n",
        "# print shapes\n",
        "print(\"X_train shape:\", X_train.shape)\n",
        "print(\"X_test shape:\", X_test.shape)\n",
        "print(\"y_train shape:\", y_train.shape)\n",
        "print(\"y_test shape:\", y_test.shape)"
      ],
      "metadata": {
        "colab": {
          "base_uri": "https://localhost:8080/"
        },
        "id": "8ifzM0Jkv4hE",
        "outputId": "816b77da-1290-427c-e238-23e3d86c3ca8"
      },
      "execution_count": 5,
      "outputs": [
        {
          "output_type": "stream",
          "name": "stdout",
          "text": [
            "X_train shape: (8055, 1, 224)\n",
            "X_test shape: (2014, 1, 224)\n",
            "y_train shape: (8055, 3)\n",
            "y_test shape: (2014, 3)\n"
          ]
        }
      ]
    },
    {
      "cell_type": "markdown",
      "source": [
        "## **Building Hybrid model**"
      ],
      "metadata": {
        "id": "sbhWcIknwNJy"
      }
    },
    {
      "cell_type": "code",
      "source": [
        "import tensorflow as tf\n",
        "from tensorflow.keras.layers import Input, Conv1D, LSTM, Dense, Dropout, LayerNormalization, MultiHeadAttention, Flatten\n",
        "from tensorflow.keras.models import Model\n",
        "\n",
        "# transformer encoder block\n",
        "def transformer_encoder(inputs, head_size, num_heads, ff_dim, dropout=0):\n",
        "    # multi-head self attention\n",
        "    x = MultiHeadAttention(key_dim=head_size, num_heads=num_heads)(inputs, inputs)\n",
        "    x = Dropout(dropout)(x)\n",
        "    x = LayerNormalization(epsilon=1e-6)(x)\n",
        "    res = x + inputs\n",
        "\n",
        "    # feed-forward network\n",
        "    x = Dense(ff_dim, activation=\"relu\")(res)\n",
        "    x = Dropout(dropout)(x)\n",
        "    x = Dense(inputs.shape[-1], activation=\"linear\")(x)\n",
        "    x = LayerNormalization(epsilon=1e-6)(x)\n",
        "    return x + res\n",
        "\n",
        "# model input\n",
        "inp = Input(shape=(X_train.shape[1], X_train.shape[2]))\n",
        "\n",
        "# CNN layer\n",
        "x = Conv1D(filters=64, kernel_size=1, activation='relu')(inp)\n",
        "\n",
        "# LSTM layer\n",
        "x = LSTM(64, return_sequences=True)(x)\n",
        "\n",
        "# Transformer block\n",
        "x = transformer_encoder(x, head_size=64, num_heads=4, ff_dim=128, dropout=0.1)\n",
        "\n",
        "# flatten and dense\n",
        "x = Flatten()(x)\n",
        "x = Dense(64, activation='relu')(x)\n",
        "x = Dropout(0.3)(x)\n",
        "\n",
        "# output layer\n",
        "out = Dense(y_train.shape[1], activation='softmax')(x)\n",
        "\n",
        "# model definition\n",
        "model = Model(inputs=inp, outputs=out)\n",
        "\n",
        "# compile model\n",
        "model.compile(optimizer='adam', loss='categorical_crossentropy', metrics=['accuracy'])\n",
        "\n",
        "# summary\n",
        "model.summary()"
      ],
      "metadata": {
        "colab": {
          "base_uri": "https://localhost:8080/",
          "height": 760
        },
        "id": "AbCL7p79wQrc",
        "outputId": "4fe9f4a5-6f12-4404-f89b-b1edbe0449f6"
      },
      "execution_count": 6,
      "outputs": [
        {
          "output_type": "display_data",
          "data": {
            "text/plain": [
              "\u001b[1mModel: \"functional\"\u001b[0m\n"
            ],
            "text/html": [
              "<pre style=\"white-space:pre;overflow-x:auto;line-height:normal;font-family:Menlo,'DejaVu Sans Mono',consolas,'Courier New',monospace\"><span style=\"font-weight: bold\">Model: \"functional\"</span>\n",
              "</pre>\n"
            ]
          },
          "metadata": {}
        },
        {
          "output_type": "display_data",
          "data": {
            "text/plain": [
              "┏━━━━━━━━━━━━━━━━━━━━━┳━━━━━━━━━━━━━━━━━━━┳━━━━━━━━━━━━┳━━━━━━━━━━━━━━━━━━━┓\n",
              "┃\u001b[1m \u001b[0m\u001b[1mLayer (type)       \u001b[0m\u001b[1m \u001b[0m┃\u001b[1m \u001b[0m\u001b[1mOutput Shape     \u001b[0m\u001b[1m \u001b[0m┃\u001b[1m \u001b[0m\u001b[1m   Param #\u001b[0m\u001b[1m \u001b[0m┃\u001b[1m \u001b[0m\u001b[1mConnected to     \u001b[0m\u001b[1m \u001b[0m┃\n",
              "┡━━━━━━━━━━━━━━━━━━━━━╇━━━━━━━━━━━━━━━━━━━╇━━━━━━━━━━━━╇━━━━━━━━━━━━━━━━━━━┩\n",
              "│ input_layer         │ (\u001b[38;5;45mNone\u001b[0m, \u001b[38;5;34m1\u001b[0m, \u001b[38;5;34m224\u001b[0m)    │          \u001b[38;5;34m0\u001b[0m │ -                 │\n",
              "│ (\u001b[38;5;33mInputLayer\u001b[0m)        │                   │            │                   │\n",
              "├─────────────────────┼───────────────────┼────────────┼───────────────────┤\n",
              "│ conv1d (\u001b[38;5;33mConv1D\u001b[0m)     │ (\u001b[38;5;45mNone\u001b[0m, \u001b[38;5;34m1\u001b[0m, \u001b[38;5;34m64\u001b[0m)     │     \u001b[38;5;34m14,400\u001b[0m │ input_layer[\u001b[38;5;34m0\u001b[0m][\u001b[38;5;34m0\u001b[0m] │\n",
              "├─────────────────────┼───────────────────┼────────────┼───────────────────┤\n",
              "│ lstm (\u001b[38;5;33mLSTM\u001b[0m)         │ (\u001b[38;5;45mNone\u001b[0m, \u001b[38;5;34m1\u001b[0m, \u001b[38;5;34m64\u001b[0m)     │     \u001b[38;5;34m33,024\u001b[0m │ conv1d[\u001b[38;5;34m0\u001b[0m][\u001b[38;5;34m0\u001b[0m]      │\n",
              "├─────────────────────┼───────────────────┼────────────┼───────────────────┤\n",
              "│ multi_head_attenti… │ (\u001b[38;5;45mNone\u001b[0m, \u001b[38;5;34m1\u001b[0m, \u001b[38;5;34m64\u001b[0m)     │     \u001b[38;5;34m66,368\u001b[0m │ lstm[\u001b[38;5;34m0\u001b[0m][\u001b[38;5;34m0\u001b[0m],       │\n",
              "│ (\u001b[38;5;33mMultiHeadAttentio…\u001b[0m │                   │            │ lstm[\u001b[38;5;34m0\u001b[0m][\u001b[38;5;34m0\u001b[0m]        │\n",
              "├─────────────────────┼───────────────────┼────────────┼───────────────────┤\n",
              "│ dropout_1 (\u001b[38;5;33mDropout\u001b[0m) │ (\u001b[38;5;45mNone\u001b[0m, \u001b[38;5;34m1\u001b[0m, \u001b[38;5;34m64\u001b[0m)     │          \u001b[38;5;34m0\u001b[0m │ multi_head_atten… │\n",
              "├─────────────────────┼───────────────────┼────────────┼───────────────────┤\n",
              "│ layer_normalization │ (\u001b[38;5;45mNone\u001b[0m, \u001b[38;5;34m1\u001b[0m, \u001b[38;5;34m64\u001b[0m)     │        \u001b[38;5;34m128\u001b[0m │ dropout_1[\u001b[38;5;34m0\u001b[0m][\u001b[38;5;34m0\u001b[0m]   │\n",
              "│ (\u001b[38;5;33mLayerNormalizatio…\u001b[0m │                   │            │                   │\n",
              "├─────────────────────┼───────────────────┼────────────┼───────────────────┤\n",
              "│ add (\u001b[38;5;33mAdd\u001b[0m)           │ (\u001b[38;5;45mNone\u001b[0m, \u001b[38;5;34m1\u001b[0m, \u001b[38;5;34m64\u001b[0m)     │          \u001b[38;5;34m0\u001b[0m │ layer_normalizat… │\n",
              "│                     │                   │            │ lstm[\u001b[38;5;34m0\u001b[0m][\u001b[38;5;34m0\u001b[0m]        │\n",
              "├─────────────────────┼───────────────────┼────────────┼───────────────────┤\n",
              "│ dense (\u001b[38;5;33mDense\u001b[0m)       │ (\u001b[38;5;45mNone\u001b[0m, \u001b[38;5;34m1\u001b[0m, \u001b[38;5;34m128\u001b[0m)    │      \u001b[38;5;34m8,320\u001b[0m │ add[\u001b[38;5;34m0\u001b[0m][\u001b[38;5;34m0\u001b[0m]         │\n",
              "├─────────────────────┼───────────────────┼────────────┼───────────────────┤\n",
              "│ dropout_2 (\u001b[38;5;33mDropout\u001b[0m) │ (\u001b[38;5;45mNone\u001b[0m, \u001b[38;5;34m1\u001b[0m, \u001b[38;5;34m128\u001b[0m)    │          \u001b[38;5;34m0\u001b[0m │ dense[\u001b[38;5;34m0\u001b[0m][\u001b[38;5;34m0\u001b[0m]       │\n",
              "├─────────────────────┼───────────────────┼────────────┼───────────────────┤\n",
              "│ dense_1 (\u001b[38;5;33mDense\u001b[0m)     │ (\u001b[38;5;45mNone\u001b[0m, \u001b[38;5;34m1\u001b[0m, \u001b[38;5;34m64\u001b[0m)     │      \u001b[38;5;34m8,256\u001b[0m │ dropout_2[\u001b[38;5;34m0\u001b[0m][\u001b[38;5;34m0\u001b[0m]   │\n",
              "├─────────────────────┼───────────────────┼────────────┼───────────────────┤\n",
              "│ layer_normalizatio… │ (\u001b[38;5;45mNone\u001b[0m, \u001b[38;5;34m1\u001b[0m, \u001b[38;5;34m64\u001b[0m)     │        \u001b[38;5;34m128\u001b[0m │ dense_1[\u001b[38;5;34m0\u001b[0m][\u001b[38;5;34m0\u001b[0m]     │\n",
              "│ (\u001b[38;5;33mLayerNormalizatio…\u001b[0m │                   │            │                   │\n",
              "├─────────────────────┼───────────────────┼────────────┼───────────────────┤\n",
              "│ add_1 (\u001b[38;5;33mAdd\u001b[0m)         │ (\u001b[38;5;45mNone\u001b[0m, \u001b[38;5;34m1\u001b[0m, \u001b[38;5;34m64\u001b[0m)     │          \u001b[38;5;34m0\u001b[0m │ layer_normalizat… │\n",
              "│                     │                   │            │ add[\u001b[38;5;34m0\u001b[0m][\u001b[38;5;34m0\u001b[0m]         │\n",
              "├─────────────────────┼───────────────────┼────────────┼───────────────────┤\n",
              "│ flatten (\u001b[38;5;33mFlatten\u001b[0m)   │ (\u001b[38;5;45mNone\u001b[0m, \u001b[38;5;34m64\u001b[0m)        │          \u001b[38;5;34m0\u001b[0m │ add_1[\u001b[38;5;34m0\u001b[0m][\u001b[38;5;34m0\u001b[0m]       │\n",
              "├─────────────────────┼───────────────────┼────────────┼───────────────────┤\n",
              "│ dense_2 (\u001b[38;5;33mDense\u001b[0m)     │ (\u001b[38;5;45mNone\u001b[0m, \u001b[38;5;34m64\u001b[0m)        │      \u001b[38;5;34m4,160\u001b[0m │ flatten[\u001b[38;5;34m0\u001b[0m][\u001b[38;5;34m0\u001b[0m]     │\n",
              "├─────────────────────┼───────────────────┼────────────┼───────────────────┤\n",
              "│ dropout_3 (\u001b[38;5;33mDropout\u001b[0m) │ (\u001b[38;5;45mNone\u001b[0m, \u001b[38;5;34m64\u001b[0m)        │          \u001b[38;5;34m0\u001b[0m │ dense_2[\u001b[38;5;34m0\u001b[0m][\u001b[38;5;34m0\u001b[0m]     │\n",
              "├─────────────────────┼───────────────────┼────────────┼───────────────────┤\n",
              "│ dense_3 (\u001b[38;5;33mDense\u001b[0m)     │ (\u001b[38;5;45mNone\u001b[0m, \u001b[38;5;34m3\u001b[0m)         │        \u001b[38;5;34m195\u001b[0m │ dropout_3[\u001b[38;5;34m0\u001b[0m][\u001b[38;5;34m0\u001b[0m]   │\n",
              "└─────────────────────┴───────────────────┴────────────┴───────────────────┘\n"
            ],
            "text/html": [
              "<pre style=\"white-space:pre;overflow-x:auto;line-height:normal;font-family:Menlo,'DejaVu Sans Mono',consolas,'Courier New',monospace\">┏━━━━━━━━━━━━━━━━━━━━━┳━━━━━━━━━━━━━━━━━━━┳━━━━━━━━━━━━┳━━━━━━━━━━━━━━━━━━━┓\n",
              "┃<span style=\"font-weight: bold\"> Layer (type)        </span>┃<span style=\"font-weight: bold\"> Output Shape      </span>┃<span style=\"font-weight: bold\">    Param # </span>┃<span style=\"font-weight: bold\"> Connected to      </span>┃\n",
              "┡━━━━━━━━━━━━━━━━━━━━━╇━━━━━━━━━━━━━━━━━━━╇━━━━━━━━━━━━╇━━━━━━━━━━━━━━━━━━━┩\n",
              "│ input_layer         │ (<span style=\"color: #00d7ff; text-decoration-color: #00d7ff\">None</span>, <span style=\"color: #00af00; text-decoration-color: #00af00\">1</span>, <span style=\"color: #00af00; text-decoration-color: #00af00\">224</span>)    │          <span style=\"color: #00af00; text-decoration-color: #00af00\">0</span> │ -                 │\n",
              "│ (<span style=\"color: #0087ff; text-decoration-color: #0087ff\">InputLayer</span>)        │                   │            │                   │\n",
              "├─────────────────────┼───────────────────┼────────────┼───────────────────┤\n",
              "│ conv1d (<span style=\"color: #0087ff; text-decoration-color: #0087ff\">Conv1D</span>)     │ (<span style=\"color: #00d7ff; text-decoration-color: #00d7ff\">None</span>, <span style=\"color: #00af00; text-decoration-color: #00af00\">1</span>, <span style=\"color: #00af00; text-decoration-color: #00af00\">64</span>)     │     <span style=\"color: #00af00; text-decoration-color: #00af00\">14,400</span> │ input_layer[<span style=\"color: #00af00; text-decoration-color: #00af00\">0</span>][<span style=\"color: #00af00; text-decoration-color: #00af00\">0</span>] │\n",
              "├─────────────────────┼───────────────────┼────────────┼───────────────────┤\n",
              "│ lstm (<span style=\"color: #0087ff; text-decoration-color: #0087ff\">LSTM</span>)         │ (<span style=\"color: #00d7ff; text-decoration-color: #00d7ff\">None</span>, <span style=\"color: #00af00; text-decoration-color: #00af00\">1</span>, <span style=\"color: #00af00; text-decoration-color: #00af00\">64</span>)     │     <span style=\"color: #00af00; text-decoration-color: #00af00\">33,024</span> │ conv1d[<span style=\"color: #00af00; text-decoration-color: #00af00\">0</span>][<span style=\"color: #00af00; text-decoration-color: #00af00\">0</span>]      │\n",
              "├─────────────────────┼───────────────────┼────────────┼───────────────────┤\n",
              "│ multi_head_attenti… │ (<span style=\"color: #00d7ff; text-decoration-color: #00d7ff\">None</span>, <span style=\"color: #00af00; text-decoration-color: #00af00\">1</span>, <span style=\"color: #00af00; text-decoration-color: #00af00\">64</span>)     │     <span style=\"color: #00af00; text-decoration-color: #00af00\">66,368</span> │ lstm[<span style=\"color: #00af00; text-decoration-color: #00af00\">0</span>][<span style=\"color: #00af00; text-decoration-color: #00af00\">0</span>],       │\n",
              "│ (<span style=\"color: #0087ff; text-decoration-color: #0087ff\">MultiHeadAttentio…</span> │                   │            │ lstm[<span style=\"color: #00af00; text-decoration-color: #00af00\">0</span>][<span style=\"color: #00af00; text-decoration-color: #00af00\">0</span>]        │\n",
              "├─────────────────────┼───────────────────┼────────────┼───────────────────┤\n",
              "│ dropout_1 (<span style=\"color: #0087ff; text-decoration-color: #0087ff\">Dropout</span>) │ (<span style=\"color: #00d7ff; text-decoration-color: #00d7ff\">None</span>, <span style=\"color: #00af00; text-decoration-color: #00af00\">1</span>, <span style=\"color: #00af00; text-decoration-color: #00af00\">64</span>)     │          <span style=\"color: #00af00; text-decoration-color: #00af00\">0</span> │ multi_head_atten… │\n",
              "├─────────────────────┼───────────────────┼────────────┼───────────────────┤\n",
              "│ layer_normalization │ (<span style=\"color: #00d7ff; text-decoration-color: #00d7ff\">None</span>, <span style=\"color: #00af00; text-decoration-color: #00af00\">1</span>, <span style=\"color: #00af00; text-decoration-color: #00af00\">64</span>)     │        <span style=\"color: #00af00; text-decoration-color: #00af00\">128</span> │ dropout_1[<span style=\"color: #00af00; text-decoration-color: #00af00\">0</span>][<span style=\"color: #00af00; text-decoration-color: #00af00\">0</span>]   │\n",
              "│ (<span style=\"color: #0087ff; text-decoration-color: #0087ff\">LayerNormalizatio…</span> │                   │            │                   │\n",
              "├─────────────────────┼───────────────────┼────────────┼───────────────────┤\n",
              "│ add (<span style=\"color: #0087ff; text-decoration-color: #0087ff\">Add</span>)           │ (<span style=\"color: #00d7ff; text-decoration-color: #00d7ff\">None</span>, <span style=\"color: #00af00; text-decoration-color: #00af00\">1</span>, <span style=\"color: #00af00; text-decoration-color: #00af00\">64</span>)     │          <span style=\"color: #00af00; text-decoration-color: #00af00\">0</span> │ layer_normalizat… │\n",
              "│                     │                   │            │ lstm[<span style=\"color: #00af00; text-decoration-color: #00af00\">0</span>][<span style=\"color: #00af00; text-decoration-color: #00af00\">0</span>]        │\n",
              "├─────────────────────┼───────────────────┼────────────┼───────────────────┤\n",
              "│ dense (<span style=\"color: #0087ff; text-decoration-color: #0087ff\">Dense</span>)       │ (<span style=\"color: #00d7ff; text-decoration-color: #00d7ff\">None</span>, <span style=\"color: #00af00; text-decoration-color: #00af00\">1</span>, <span style=\"color: #00af00; text-decoration-color: #00af00\">128</span>)    │      <span style=\"color: #00af00; text-decoration-color: #00af00\">8,320</span> │ add[<span style=\"color: #00af00; text-decoration-color: #00af00\">0</span>][<span style=\"color: #00af00; text-decoration-color: #00af00\">0</span>]         │\n",
              "├─────────────────────┼───────────────────┼────────────┼───────────────────┤\n",
              "│ dropout_2 (<span style=\"color: #0087ff; text-decoration-color: #0087ff\">Dropout</span>) │ (<span style=\"color: #00d7ff; text-decoration-color: #00d7ff\">None</span>, <span style=\"color: #00af00; text-decoration-color: #00af00\">1</span>, <span style=\"color: #00af00; text-decoration-color: #00af00\">128</span>)    │          <span style=\"color: #00af00; text-decoration-color: #00af00\">0</span> │ dense[<span style=\"color: #00af00; text-decoration-color: #00af00\">0</span>][<span style=\"color: #00af00; text-decoration-color: #00af00\">0</span>]       │\n",
              "├─────────────────────┼───────────────────┼────────────┼───────────────────┤\n",
              "│ dense_1 (<span style=\"color: #0087ff; text-decoration-color: #0087ff\">Dense</span>)     │ (<span style=\"color: #00d7ff; text-decoration-color: #00d7ff\">None</span>, <span style=\"color: #00af00; text-decoration-color: #00af00\">1</span>, <span style=\"color: #00af00; text-decoration-color: #00af00\">64</span>)     │      <span style=\"color: #00af00; text-decoration-color: #00af00\">8,256</span> │ dropout_2[<span style=\"color: #00af00; text-decoration-color: #00af00\">0</span>][<span style=\"color: #00af00; text-decoration-color: #00af00\">0</span>]   │\n",
              "├─────────────────────┼───────────────────┼────────────┼───────────────────┤\n",
              "│ layer_normalizatio… │ (<span style=\"color: #00d7ff; text-decoration-color: #00d7ff\">None</span>, <span style=\"color: #00af00; text-decoration-color: #00af00\">1</span>, <span style=\"color: #00af00; text-decoration-color: #00af00\">64</span>)     │        <span style=\"color: #00af00; text-decoration-color: #00af00\">128</span> │ dense_1[<span style=\"color: #00af00; text-decoration-color: #00af00\">0</span>][<span style=\"color: #00af00; text-decoration-color: #00af00\">0</span>]     │\n",
              "│ (<span style=\"color: #0087ff; text-decoration-color: #0087ff\">LayerNormalizatio…</span> │                   │            │                   │\n",
              "├─────────────────────┼───────────────────┼────────────┼───────────────────┤\n",
              "│ add_1 (<span style=\"color: #0087ff; text-decoration-color: #0087ff\">Add</span>)         │ (<span style=\"color: #00d7ff; text-decoration-color: #00d7ff\">None</span>, <span style=\"color: #00af00; text-decoration-color: #00af00\">1</span>, <span style=\"color: #00af00; text-decoration-color: #00af00\">64</span>)     │          <span style=\"color: #00af00; text-decoration-color: #00af00\">0</span> │ layer_normalizat… │\n",
              "│                     │                   │            │ add[<span style=\"color: #00af00; text-decoration-color: #00af00\">0</span>][<span style=\"color: #00af00; text-decoration-color: #00af00\">0</span>]         │\n",
              "├─────────────────────┼───────────────────┼────────────┼───────────────────┤\n",
              "│ flatten (<span style=\"color: #0087ff; text-decoration-color: #0087ff\">Flatten</span>)   │ (<span style=\"color: #00d7ff; text-decoration-color: #00d7ff\">None</span>, <span style=\"color: #00af00; text-decoration-color: #00af00\">64</span>)        │          <span style=\"color: #00af00; text-decoration-color: #00af00\">0</span> │ add_1[<span style=\"color: #00af00; text-decoration-color: #00af00\">0</span>][<span style=\"color: #00af00; text-decoration-color: #00af00\">0</span>]       │\n",
              "├─────────────────────┼───────────────────┼────────────┼───────────────────┤\n",
              "│ dense_2 (<span style=\"color: #0087ff; text-decoration-color: #0087ff\">Dense</span>)     │ (<span style=\"color: #00d7ff; text-decoration-color: #00d7ff\">None</span>, <span style=\"color: #00af00; text-decoration-color: #00af00\">64</span>)        │      <span style=\"color: #00af00; text-decoration-color: #00af00\">4,160</span> │ flatten[<span style=\"color: #00af00; text-decoration-color: #00af00\">0</span>][<span style=\"color: #00af00; text-decoration-color: #00af00\">0</span>]     │\n",
              "├─────────────────────┼───────────────────┼────────────┼───────────────────┤\n",
              "│ dropout_3 (<span style=\"color: #0087ff; text-decoration-color: #0087ff\">Dropout</span>) │ (<span style=\"color: #00d7ff; text-decoration-color: #00d7ff\">None</span>, <span style=\"color: #00af00; text-decoration-color: #00af00\">64</span>)        │          <span style=\"color: #00af00; text-decoration-color: #00af00\">0</span> │ dense_2[<span style=\"color: #00af00; text-decoration-color: #00af00\">0</span>][<span style=\"color: #00af00; text-decoration-color: #00af00\">0</span>]     │\n",
              "├─────────────────────┼───────────────────┼────────────┼───────────────────┤\n",
              "│ dense_3 (<span style=\"color: #0087ff; text-decoration-color: #0087ff\">Dense</span>)     │ (<span style=\"color: #00d7ff; text-decoration-color: #00d7ff\">None</span>, <span style=\"color: #00af00; text-decoration-color: #00af00\">3</span>)         │        <span style=\"color: #00af00; text-decoration-color: #00af00\">195</span> │ dropout_3[<span style=\"color: #00af00; text-decoration-color: #00af00\">0</span>][<span style=\"color: #00af00; text-decoration-color: #00af00\">0</span>]   │\n",
              "└─────────────────────┴───────────────────┴────────────┴───────────────────┘\n",
              "</pre>\n"
            ]
          },
          "metadata": {}
        },
        {
          "output_type": "display_data",
          "data": {
            "text/plain": [
              "\u001b[1m Total params: \u001b[0m\u001b[38;5;34m134,979\u001b[0m (527.26 KB)\n"
            ],
            "text/html": [
              "<pre style=\"white-space:pre;overflow-x:auto;line-height:normal;font-family:Menlo,'DejaVu Sans Mono',consolas,'Courier New',monospace\"><span style=\"font-weight: bold\"> Total params: </span><span style=\"color: #00af00; text-decoration-color: #00af00\">134,979</span> (527.26 KB)\n",
              "</pre>\n"
            ]
          },
          "metadata": {}
        },
        {
          "output_type": "display_data",
          "data": {
            "text/plain": [
              "\u001b[1m Trainable params: \u001b[0m\u001b[38;5;34m134,979\u001b[0m (527.26 KB)\n"
            ],
            "text/html": [
              "<pre style=\"white-space:pre;overflow-x:auto;line-height:normal;font-family:Menlo,'DejaVu Sans Mono',consolas,'Courier New',monospace\"><span style=\"font-weight: bold\"> Trainable params: </span><span style=\"color: #00af00; text-decoration-color: #00af00\">134,979</span> (527.26 KB)\n",
              "</pre>\n"
            ]
          },
          "metadata": {}
        },
        {
          "output_type": "display_data",
          "data": {
            "text/plain": [
              "\u001b[1m Non-trainable params: \u001b[0m\u001b[38;5;34m0\u001b[0m (0.00 B)\n"
            ],
            "text/html": [
              "<pre style=\"white-space:pre;overflow-x:auto;line-height:normal;font-family:Menlo,'DejaVu Sans Mono',consolas,'Courier New',monospace\"><span style=\"font-weight: bold\"> Non-trainable params: </span><span style=\"color: #00af00; text-decoration-color: #00af00\">0</span> (0.00 B)\n",
              "</pre>\n"
            ]
          },
          "metadata": {}
        }
      ]
    },
    {
      "cell_type": "markdown",
      "source": [
        "# **Training and Evaluation CNN + LSTM**"
      ],
      "metadata": {
        "id": "3aQUxmIjyrUw"
      }
    },
    {
      "cell_type": "code",
      "source": [
        "# early stopping to avoid overfitting\n",
        "from tensorflow.keras.callbacks import EarlyStopping\n",
        "\n",
        "# callback\n",
        "early_stop = EarlyStopping(monitor='val_loss', patience=5, restore_best_weights=True)\n",
        "\n",
        "# train model\n",
        "history = model.fit(\n",
        "    X_train, y_train,\n",
        "    validation_split=0.2,\n",
        "    epochs=20,\n",
        "    batch_size=32,\n",
        "    callbacks=[early_stop],\n",
        "    verbose=1\n",
        ")\n",
        "\n",
        "# evaluate on test data\n",
        "test_loss, test_acc = model.evaluate(X_test, y_test, verbose=0)\n",
        "print(f\"Test Accuracy: {test_acc:.4f}\")\n",
        "print(f\"Test Loss: {test_loss:.4f}\")"
      ],
      "metadata": {
        "colab": {
          "base_uri": "https://localhost:8080/"
        },
        "id": "-XlT_qziyu9E",
        "outputId": "c032b871-564e-47a7-d645-0250535f43ec"
      },
      "execution_count": 7,
      "outputs": [
        {
          "output_type": "stream",
          "name": "stdout",
          "text": [
            "Epoch 1/20\n",
            "\u001b[1m202/202\u001b[0m \u001b[32m━━━━━━━━━━━━━━━━━━━━\u001b[0m\u001b[37m\u001b[0m \u001b[1m10s\u001b[0m 21ms/step - accuracy: 0.9448 - loss: 0.1728 - val_accuracy: 0.9975 - val_loss: 0.0161\n",
            "Epoch 2/20\n",
            "\u001b[1m202/202\u001b[0m \u001b[32m━━━━━━━━━━━━━━━━━━━━\u001b[0m\u001b[37m\u001b[0m \u001b[1m2s\u001b[0m 9ms/step - accuracy: 0.9976 - loss: 0.0159 - val_accuracy: 0.9975 - val_loss: 0.0094\n",
            "Epoch 3/20\n",
            "\u001b[1m202/202\u001b[0m \u001b[32m━━━━━━━━━━━━━━━━━━━━\u001b[0m\u001b[37m\u001b[0m \u001b[1m2s\u001b[0m 8ms/step - accuracy: 0.9978 - loss: 0.0161 - val_accuracy: 0.9975 - val_loss: 0.0188\n",
            "Epoch 4/20\n",
            "\u001b[1m202/202\u001b[0m \u001b[32m━━━━━━━━━━━━━━━━━━━━\u001b[0m\u001b[37m\u001b[0m \u001b[1m2s\u001b[0m 10ms/step - accuracy: 0.9963 - loss: 0.0155 - val_accuracy: 0.9981 - val_loss: 0.0136\n",
            "Epoch 5/20\n",
            "\u001b[1m202/202\u001b[0m \u001b[32m━━━━━━━━━━━━━━━━━━━━\u001b[0m\u001b[37m\u001b[0m \u001b[1m1s\u001b[0m 7ms/step - accuracy: 0.9986 - loss: 0.0098 - val_accuracy: 0.9975 - val_loss: 0.0123\n",
            "Epoch 6/20\n",
            "\u001b[1m202/202\u001b[0m \u001b[32m━━━━━━━━━━━━━━━━━━━━\u001b[0m\u001b[37m\u001b[0m \u001b[1m1s\u001b[0m 7ms/step - accuracy: 0.9996 - loss: 0.0022 - val_accuracy: 0.9938 - val_loss: 0.0345\n",
            "Epoch 7/20\n",
            "\u001b[1m202/202\u001b[0m \u001b[32m━━━━━━━━━━━━━━━━━━━━\u001b[0m\u001b[37m\u001b[0m \u001b[1m1s\u001b[0m 7ms/step - accuracy: 0.9961 - loss: 0.0254 - val_accuracy: 0.9981 - val_loss: 0.0090\n",
            "Epoch 8/20\n",
            "\u001b[1m202/202\u001b[0m \u001b[32m━━━━━━━━━━━━━━━━━━━━\u001b[0m\u001b[37m\u001b[0m \u001b[1m2s\u001b[0m 8ms/step - accuracy: 0.9982 - loss: 0.0097 - val_accuracy: 0.9988 - val_loss: 0.0058\n",
            "Epoch 9/20\n",
            "\u001b[1m202/202\u001b[0m \u001b[32m━━━━━━━━━━━━━━━━━━━━\u001b[0m\u001b[37m\u001b[0m \u001b[1m2s\u001b[0m 7ms/step - accuracy: 0.9996 - loss: 0.0021 - val_accuracy: 0.9981 - val_loss: 0.0091\n",
            "Epoch 10/20\n",
            "\u001b[1m202/202\u001b[0m \u001b[32m━━━━━━━━━━━━━━━━━━━━\u001b[0m\u001b[37m\u001b[0m \u001b[1m2s\u001b[0m 7ms/step - accuracy: 0.9981 - loss: 0.0053 - val_accuracy: 0.9975 - val_loss: 0.0134\n",
            "Epoch 11/20\n",
            "\u001b[1m202/202\u001b[0m \u001b[32m━━━━━━━━━━━━━━━━━━━━\u001b[0m\u001b[37m\u001b[0m \u001b[1m3s\u001b[0m 9ms/step - accuracy: 0.9990 - loss: 0.0058 - val_accuracy: 0.9975 - val_loss: 0.0108\n",
            "Epoch 12/20\n",
            "\u001b[1m202/202\u001b[0m \u001b[32m━━━━━━━━━━━━━━━━━━━━\u001b[0m\u001b[37m\u001b[0m \u001b[1m1s\u001b[0m 7ms/step - accuracy: 0.9988 - loss: 0.0057 - val_accuracy: 0.9988 - val_loss: 0.0083\n",
            "Epoch 13/20\n",
            "\u001b[1m202/202\u001b[0m \u001b[32m━━━━━━━━━━━━━━━━━━━━\u001b[0m\u001b[37m\u001b[0m \u001b[1m2s\u001b[0m 7ms/step - accuracy: 0.9985 - loss: 0.0072 - val_accuracy: 0.9975 - val_loss: 0.0182\n",
            "Test Accuracy: 0.9975\n",
            "Test Loss: 0.0107\n"
          ]
        }
      ]
    },
    {
      "cell_type": "code",
      "source": [
        "from sklearn.metrics import classification_report, confusion_matrix\n",
        "import numpy as np\n",
        "import time\n",
        "\n",
        "# predictions\n",
        "y_pred_probs = model.predict(X_test)\n",
        "y_pred = np.argmax(y_pred_probs, axis=1)\n",
        "y_true = np.argmax(y_test, axis=1)\n",
        "\n",
        "# classification report\n",
        "print(\"Classification Report:\")\n",
        "print(classification_report(y_true, y_pred))\n",
        "\n",
        "# confusion matrix\n",
        "cm = confusion_matrix(y_true, y_pred)\n",
        "plt.figure(figsize=(5,4))\n",
        "sns.heatmap(cm, annot=True, fmt='d', cmap='Blues', xticklabels=encoder.categories_[0], yticklabels=encoder.categories_[0])\n",
        "plt.xlabel(\"Predicted\")\n",
        "plt.ylabel(\"True\")\n",
        "plt.title(\"Confusion Matrix\")\n",
        "plt.show()\n",
        "\n",
        "# inference latency measurement\n",
        "start_time = time.time()\n",
        "_ = model.predict(X_test, verbose=0)\n",
        "end_time = time.time()\n",
        "latency_per_sample = (end_time - start_time) / X_test.shape[0]\n",
        "print(f\"Average inference time per sample: {latency_per_sample*1000:.4f} ms\")"
      ],
      "metadata": {
        "colab": {
          "base_uri": "https://localhost:8080/",
          "height": 636
        },
        "id": "9yBf_TzPzDe4",
        "outputId": "d3d5937d-6e18-4d79-d9f1-f46aee74a44a"
      },
      "execution_count": 8,
      "outputs": [
        {
          "output_type": "stream",
          "name": "stdout",
          "text": [
            "\u001b[1m63/63\u001b[0m \u001b[32m━━━━━━━━━━━━━━━━━━━━\u001b[0m\u001b[37m\u001b[0m \u001b[1m1s\u001b[0m 5ms/step\n",
            "Classification Report:\n",
            "              precision    recall  f1-score   support\n",
            "\n",
            "           0       1.00      0.99      1.00       924\n",
            "           1       0.99      1.00      0.99       299\n",
            "           2       1.00      1.00      1.00       791\n",
            "\n",
            "    accuracy                           1.00      2014\n",
            "   macro avg       1.00      1.00      1.00      2014\n",
            "weighted avg       1.00      1.00      1.00      2014\n",
            "\n"
          ]
        },
        {
          "output_type": "display_data",
          "data": {
            "text/plain": [
              "<Figure size 500x400 with 2 Axes>"
            ],
            "image/png": "[encoded data removed]"
          },
          "metadata": {}
        },
        {
          "output_type": "stream",
          "name": "stdout",
          "text": [
            "Average inference time per sample: 0.0944 ms\n"
          ]
        }
      ]
    },
    {
      "cell_type": "markdown",
      "source": [
        "### **Interpretability with Random Forest feature importance**"
      ],
      "metadata": {
        "id": "23qZGrxBzYuz"
      }
    },
    {
      "cell_type": "code",
      "source": [
        "from sklearn.ensemble import RandomForestClassifier\n",
        "import pandas as pd\n",
        "\n",
        "# create a feature extractor model (remove the final Dense softmax layer)\n",
        "feature_extractor = Model(inputs=model.input, outputs=model.layers[-4].output)\n",
        "\n",
        "# extract features for train and test sets\n",
        "X_train_features = feature_extractor.predict(X_train, verbose=0)\n",
        "X_test_features = feature_extractor.predict(X_test, verbose=0)\n",
        "\n",
        "# flatten if needed\n",
        "if len(X_train_features.shape) > 2:\n",
        "    X_train_features = X_train_features.reshape(X_train_features.shape[0], -1)\n",
        "    X_test_features = X_test_features.reshape(X_test_features.shape[0], -1)\n",
        "\n",
        "# train a random forest on extracted features\n",
        "rf = RandomForestClassifier(n_estimators=100, random_state=42)\n",
        "rf.fit(X_train_features, np.argmax(y_train, axis=1))\n",
        "\n",
        "# get feature importances\n",
        "importances = rf.feature_importances_\n",
        "indices = np.argsort(importances)[::-1]\n",
        "\n",
        "# create table\n",
        "importance_df = pd.DataFrame({\n",
        "    'Feature_Index': indices,\n",
        "    'Importance': importances[indices]\n",
        "})\n",
        "\n",
        "print(\"Top 10 Important Features from Deep Embeddings:\")\n",
        "print(importance_df.head(10))\n",
        "\n",
        "# plot feature importances\n",
        "plt.figure(figsize=(8,5))\n",
        "plt.bar(range(10), importances[indices[:10]], align='center')\n",
        "plt.xticks(range(10), indices[:10])\n",
        "plt.xlabel('Embedding Feature Index')\n",
        "plt.ylabel('Importance Score')\n",
        "plt.title('Top 10 Deep Feature Importances')\n",
        "plt.show()"
      ],
      "metadata": {
        "colab": {
          "base_uri": "https://localhost:8080/",
          "height": 695
        },
        "id": "aut_MEUtza7k",
        "outputId": "8e8fe740-37aa-4b2a-90be-8d56caabe016"
      },
      "execution_count": 9,
      "outputs": [
        {
          "output_type": "stream",
          "name": "stdout",
          "text": [
            "Top 10 Important Features from Deep Embeddings:\n",
            "   Feature_Index  Importance\n",
            "0              8    0.110081\n",
            "1             27    0.071104\n",
            "2             55    0.068179\n",
            "3             63    0.051977\n",
            "4             30    0.051949\n",
            "5             59    0.045345\n",
            "6              4    0.045285\n",
            "7             31    0.043243\n",
            "8             20    0.026931\n",
            "9             45    0.026042\n"
          ]
        },
        {
          "output_type": "display_data",
          "data": {
            "text/plain": [
              "<Figure size 800x500 with 1 Axes>"
            ],
            "image/png": "[encoded data removed]"
          },
          "metadata": {}
        }
      ]
    },
    {
      "cell_type": "markdown",
      "source": [
        "## **Map Deep Embedding Features to Original Features**"
      ],
      "metadata": {
        "id": "UJlaNNvUzl4I"
      }
    },
    {
      "cell_type": "code",
      "source": [
        "# Train RF directly on original scaled features\n",
        "rf_orig = RandomForestClassifier(n_estimators=100, random_state=42)\n",
        "rf_orig.fit(X_train.reshape(X_train.shape[0], -1), np.argmax(y_train, axis=1))\n",
        "\n",
        "# Get importance scores for original features\n",
        "orig_importances = rf_orig.feature_importances_\n",
        "orig_indices = np.argsort(orig_importances)[::-1]\n",
        "\n",
        "# Create dataframe for top features\n",
        "orig_importance_df = pd.DataFrame({\n",
        "    'Original_Feature': X.columns[orig_indices],\n",
        "    'Importance': orig_importances[orig_indices]\n",
        "})\n",
        "\n",
        "print(\"Top 10 Important Original Features:\")\n",
        "print(orig_importance_df.head(10))\n",
        "\n",
        "# Plot\n",
        "plt.figure(figsize=(10,5))\n",
        "sns.barplot(x='Importance', y='Original_Feature', data=orig_importance_df.head(10), palette='viridis')\n",
        "plt.title(\"Top 10 Important Original Network Traffic Features\")\n",
        "plt.show()"
      ],
      "metadata": {
        "colab": {
          "base_uri": "https://localhost:8080/",
          "height": 802
        },
        "id": "RxARo3HAznwP",
        "outputId": "5b261d93-39ef-428c-e003-5e0c5544c52f"
      },
      "execution_count": 10,
      "outputs": [
        {
          "output_type": "stream",
          "name": "stdout",
          "text": [
            "Top 10 Important Original Features:\n",
            "         Original_Feature  Importance\n",
            "0     bwd_packets_IAT_min    0.062413\n",
            "1     bwd_packets_IAT_max    0.051966\n",
            "2    bwd_packets_IAT_mean    0.049930\n",
            "3   bwd_packets_IAT_total    0.046250\n",
            "4        fwd_packets_rate    0.042142\n",
            "5  bwd_packets_IAT_median    0.040363\n",
            "6    bwd_packets_IAT_mode    0.034145\n",
            "7    bwd_segment_size_cov    0.033618\n",
            "8      fwd_init_win_bytes    0.024424\n",
            "9   segment_size_variance    0.023297\n"
          ]
        },
        {
          "output_type": "stream",
          "name": "stderr",
          "text": [
            "/tmp/ipython-input-4008132673.py:20: FutureWarning: \n",
            "\n",
            "Passing `palette` without assigning `hue` is deprecated and will be removed in v0.14.0. Assign the `y` variable to `hue` and set `legend=False` for the same effect.\n",
            "\n",
            "  sns.barplot(x='Importance', y='Original_Feature', data=orig_importance_df.head(10), palette='viridis')\n"
          ]
        },
        {
          "output_type": "display_data",
          "data": {
            "text/plain": [
              "<Figure size 1000x500 with 1 Axes>"
            ],
            "image/png": "[encoded data removed]"
          },
          "metadata": {}
        }
      ]
    }
  ]
}